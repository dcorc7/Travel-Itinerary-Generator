{
 "cells": [
  {
   "cell_type": "markdown",
   "id": "255c23c0",
   "metadata": {},
   "source": [
    "# LSTM Itinerary Generator"
   ]
  },
  {
   "cell_type": "code",
   "execution_count": null,
   "id": "c6c9b411",
   "metadata": {},
   "outputs": [],
   "source": []
  }
 ],
 "metadata": {
  "kernelspec": {
   "display_name": "dsan6600",
   "language": "python",
   "name": "python3"
  },
  "language_info": {
   "name": "python",
   "version": "3.10.16"
  }
 },
 "nbformat": 4,
 "nbformat_minor": 5
}
