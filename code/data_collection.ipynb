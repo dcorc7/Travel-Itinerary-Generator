{
 "cells": [
  {
   "cell_type": "markdown",
   "id": "86b3c6c5",
   "metadata": {},
   "source": [
    "# Data Collection"
   ]
  },
  {
   "cell_type": "markdown",
   "id": "b6c9382e",
   "metadata": {},
   "source": [
    "## Import Required Libraries"
   ]
  },
  {
   "cell_type": "code",
   "execution_count": 1,
   "id": "cc60124b",
   "metadata": {},
   "outputs": [],
   "source": [
    "import praw\n",
    "import pandas as pd\n",
    "import time"
   ]
  },
  {
   "cell_type": "markdown",
   "id": "7299ae97",
   "metadata": {},
   "source": [
    "## Initialize Reddit API and Fetch Posts from r/travel"
   ]
  },
  {
   "cell_type": "code",
   "execution_count": 4,
   "id": "b0f56543",
   "metadata": {},
   "outputs": [
    {
     "name": "stdout",
     "output_type": "stream",
     "text": [
      "1812\n"
     ]
    }
   ],
   "source": [
    "# Initialize Reddit API\n",
    "reddit = praw.Reddit(\n",
    "    client_id = \"EBONmHOV_iZmr1AObX6r_g\",\n",
    "    client_secret = \"4MjaacKvfYrDkSGQpbjSu5Lh6QyDUA\",\n",
    "    user_agent = \"travel-itinerary-scraper\"\n",
    ")\n",
    "\n",
    "subreddits = [\"itineraries\", \"itinerary\", \"travel\"]\n",
    "query = [\"itinerary\", \"trip plan\", \"travel plan\", \"travel itinerary\"]\n",
    "posts = []\n",
    "limit = 7500\n",
    "\n",
    "for sub in subreddits:\n",
    "    for q in query:\n",
    "        for submission in reddit.subreddit(sub).search(q, sort = \"top\", limit = limit):\n",
    "            if not submission.stickied and len(submission.selftext) > 200:\n",
    "                posts.append({\n",
    "                    \"title\": submission.title,\n",
    "                    \"content\": submission.selftext,\n",
    "                    \"url\": submission.url,\n",
    "                    \"score\": submission.score,\n",
    "                    \"created_utc\": submission.created_utc,\n",
    "                    \"subreddit\": sub\n",
    "                })\n",
    "            \n",
    "            time.sleep(0.1)\n",
    "\n",
    "# Convert to DataFrame\n",
    "df = pd.DataFrame(posts)\n",
    "df.to_csv(\"../data/raw/raw_itineraries.csv\", index = False)\n",
    "\n",
    "print(len(df))"
   ]
  }
 ],
 "metadata": {
  "kernelspec": {
   "display_name": "dsan6600",
   "language": "python",
   "name": "python3"
  },
  "language_info": {
   "codemirror_mode": {
    "name": "ipython",
    "version": 3
   },
   "file_extension": ".py",
   "mimetype": "text/x-python",
   "name": "python",
   "nbconvert_exporter": "python",
   "pygments_lexer": "ipython3",
   "version": "3.10.16"
  }
 },
 "nbformat": 4,
 "nbformat_minor": 5
}
