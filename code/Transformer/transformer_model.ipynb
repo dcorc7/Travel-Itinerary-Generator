{
 "cells": [
  {
   "cell_type": "markdown",
   "id": "255c23c0",
   "metadata": {},
   "source": [
    "# Transformer Model"
   ]
  },
  {
   "cell_type": "markdown",
   "id": "4ea1d59d",
   "metadata": {},
   "source": [
    "## Import Required Libraries"
   ]
  },
  {
   "cell_type": "code",
   "execution_count": 32,
   "id": "7d63464e",
   "metadata": {},
   "outputs": [],
   "source": [
    "from datasets import load_from_disk\n",
    "from torch.utils.data import DataLoader\n",
    "import torch\n",
    "from transformers import T5Tokenizer, T5ForConditionalGeneration, DataCollatorForSeq2Seq, T5Tokenizer\n",
    "from torch.optim import AdamW\n",
    "from tqdm import tqdm"
   ]
  },
  {
   "cell_type": "markdown",
   "id": "7c3ec8ff",
   "metadata": {},
   "source": [
    "## Load Dataset"
   ]
  },
  {
   "cell_type": "code",
   "execution_count": 33,
   "id": "c6c9b411",
   "metadata": {},
   "outputs": [
    {
     "name": "stdout",
     "output_type": "stream",
     "text": [
      "DatasetDict({\n",
      "    train: Dataset({\n",
      "        features: ['prompt', 'response', '__index_level_0__', 'input_ids', 'attention_mask', 'labels'],\n",
      "        num_rows: 308\n",
      "    })\n",
      "    test: Dataset({\n",
      "        features: ['prompt', 'response', '__index_level_0__', 'input_ids', 'attention_mask', 'labels'],\n",
      "        num_rows: 77\n",
      "    })\n",
      "})\n"
     ]
    }
   ],
   "source": [
    "# Dataset directory\n",
    "dataset_path = \"../../data/processed/tokenized_dataset\"\n",
    "\n",
    "# Load dataset\n",
    "tokenized_dataset = load_from_disk(dataset_path)\n",
    "\n",
    "# Inspect datasets\n",
    "print(tokenized_dataset)\n",
    "\n",
    "# Fix labels padding token\n",
    "def preprocess_labels(examples):\n",
    "    labels = examples[\"labels\"]\n",
    "    labels = [[-100 if token == tokenizer.pad_token_id else token for token in label] for label in labels]\n",
    "    return {\"labels\": labels}\n",
    "\n",
    "tokenized_dataset = tokenized_dataset.map(preprocess_labels, batched = True)\n",
    "\n",
    "# Extract training and testing splits\n",
    "train_dataset = tokenized_dataset[\"train\"]\n",
    "test_dataset = tokenized_dataset[\"test\"]\n",
    "\n",
    "# Remove string/text columns that cause tensor conversion errors\n",
    "columns_to_remove = [\"prompt\", \"response\", \"__index_level_0__\"]\n",
    "train_dataset = train_dataset.remove_columns(columns_to_remove)\n",
    "test_dataset = test_dataset.remove_columns(columns_to_remove)"
   ]
  },
  {
   "cell_type": "markdown",
   "id": "ace2315c",
   "metadata": {},
   "source": [
    "## Initialize Pretrained Transformer ModelCreate Dataloaders"
   ]
  },
  {
   "cell_type": "code",
   "execution_count": null,
   "id": "9489f99c",
   "metadata": {},
   "outputs": [],
   "source": [
    "MODEL_NAME = \"t5-small\"\n",
    "MAX_LEN = 512\n",
    "BATCH_SIZE = 8\n",
    "EPOCHS = 10\n",
    "DEVICE = torch.device(\"cuda\" if torch.cuda.is_available() else \"cpu\")\n",
    "\n",
    "# Load pretrained tokenizer and model\n",
    "tokenizer = T5Tokenizer.from_pretrained(MODEL_NAME)\n",
    "model = T5ForConditionalGeneration.from_pretrained(MODEL_NAME)\n",
    "model.to(DEVICE)\n",
    "\n",
    "# Optimizer\n",
    "optimizer = AdamW(model.parameters(), lr = 5e-5)\n",
    "\n",
    "data_collator = DataCollatorForSeq2Seq(tokenizer, model = model, padding = True)\n",
    "\n",
    "batch_size = 8\n",
    "\n",
    "train_loader = DataLoader(train_dataset, batch_size = batch_size, shuffle = True, collate_fn = data_collator)\n",
    "test_loader = DataLoader(test_dataset, batch_size = batch_size, collate_fn = data_collator)"
   ]
  },
  {
   "cell_type": "markdown",
   "id": "81835abe",
   "metadata": {},
   "source": [
    "## Run Model"
   ]
  },
  {
   "cell_type": "code",
   "execution_count": null,
   "id": "41501116",
   "metadata": {},
   "outputs": [
    {
     "name": "stdout",
     "output_type": "stream",
     "text": [
      "Epoch 1 | Train Loss: 1.0647 | Val Loss: 0.8917\n",
      "Epoch 2 | Train Loss: 0.8457 | Val Loss: 0.8078\n",
      "Epoch 3 | Train Loss: 0.7910 | Val Loss: 0.7721\n"
     ]
    }
   ],
   "source": [
    "# Training loop with validation\n",
    "for epoch in range(EPOCHS):\n",
    "    model.train()\n",
    "    total_loss = 0\n",
    "    for batch in train_loader:\n",
    "        input_ids = batch[\"input_ids\"].to(DEVICE)\n",
    "        attention_mask = batch[\"attention_mask\"].to(DEVICE)\n",
    "        labels = batch[\"labels\"].to(DEVICE)\n",
    "\n",
    "        outputs = model(input_ids = input_ids, \n",
    "                        attention_mask = attention_mask, \n",
    "                        labels = labels)\n",
    "        \n",
    "        loss = outputs.loss\n",
    "        total_loss += loss.item()\n",
    "\n",
    "        optimizer.zero_grad()\n",
    "        loss.backward()\n",
    "        torch.nn.utils.clip_grad_norm_(model.parameters(), max_norm = 1.0)\n",
    "        optimizer.step()\n",
    "\n",
    "    avg_train_loss = total_loss / len(train_loader)\n",
    "\n",
    "    # Validation\n",
    "    model.eval()\n",
    "    total_val_loss = 0\n",
    "    with torch.no_grad():\n",
    "        for batch in test_loader:\n",
    "            input_ids = batch[\"input_ids\"].to(DEVICE)\n",
    "            attention_mask = batch[\"attention_mask\"].to(DEVICE)\n",
    "            labels = batch[\"labels\"].to(DEVICE)\n",
    "\n",
    "            outputs = model(input_ids = input_ids, \n",
    "                            attention_mask = attention_mask, \n",
    "                            labels = labels)\n",
    "            \n",
    "            val_loss = outputs.loss\n",
    "            total_val_loss += val_loss.item()\n",
    "\n",
    "    avg_val_loss = total_val_loss / len(test_loader)\n",
    "\n",
    "    print(f\"Epoch {epoch + 1} | Training Loss: {avg_train_loss:.4f} | Validation Loss: {avg_val_loss:.4f}\")"
   ]
  },
  {
   "cell_type": "markdown",
   "id": "654a7fb1",
   "metadata": {},
   "source": [
    "## Save the Model"
   ]
  },
  {
   "cell_type": "code",
   "execution_count": 36,
   "id": "0b8c1c7f",
   "metadata": {},
   "outputs": [
    {
     "name": "stdout",
     "output_type": "stream",
     "text": [
      "\n",
      "Model and tokenizer saved to ../../models/\n"
     ]
    }
   ],
   "source": [
    "# Save trained model and tokenizer\n",
    "model.save_pretrained(\"../../models/\")\n",
    "tokenizer.save_pretrained(\"../../models/\")\n",
    "print(f\"\\nModel and tokenizer saved to ../../models/\")"
   ]
  },
  {
   "cell_type": "markdown",
   "id": "22f2d8b7",
   "metadata": {},
   "source": [
    "## Custom Itinerary Generation"
   ]
  },
  {
   "cell_type": "code",
   "execution_count": 46,
   "id": "4d442470",
   "metadata": {},
   "outputs": [
    {
     "name": "stdout",
     "output_type": "stream",
     "text": [
      "3 Day Itinerary for the United States day 1: travel to the u.s. day 1: travel to the u.s. day 2: travel to the u.s. day 2: travel to the u.s. day 2: travel to the u.s. day 2: travel to the u.s. day 2: travel to the u.s. day 2: travel to the u.s. day 2: travel to the u.s. day 2: travel to the u.s.\n"
     ]
    }
   ],
   "source": [
    "def generate_itinerary(prompt, model, tokenizer, device = DEVICE, max_length = 256):\n",
    "    model.eval()\n",
    "    inputs = tokenizer(prompt, return_tensors = \"pt\").to(device)\n",
    "    with torch.no_grad():\n",
    "        outputs = model.generate(\n",
    "            input_ids = inputs[\"input_ids\"],\n",
    "            attention_mask = inputs[\"attention_mask\"],\n",
    "            max_length = max_length,\n",
    "            num_beams = 4,\n",
    "            early_stopping = True\n",
    "        )\n",
    "    return tokenizer.decode(outputs[0], skip_special_tokens = True)\n",
    "\n",
    "# Load the model and tokenizer\n",
    "model = T5ForConditionalGeneration.from_pretrained(\"../../models/\").to(DEVICE)\n",
    "tokenizer = T5Tokenizer.from_pretrained(\"../../models/\")\n",
    "\n",
    "# Create custom prompt\n",
    "prompt = \"Generate a 3 day itinerary in the United States during spring. Activity preferences include hiking.\"\n",
    "itinerary = generate_itinerary(prompt, model, tokenizer)\n",
    "\n",
    "print(itinerary)"
   ]
  }
 ],
 "metadata": {
  "kernelspec": {
   "display_name": "dsan6600",
   "language": "python",
   "name": "python3"
  },
  "language_info": {
   "codemirror_mode": {
    "name": "ipython",
    "version": 3
   },
   "file_extension": ".py",
   "mimetype": "text/x-python",
   "name": "python",
   "nbconvert_exporter": "python",
   "pygments_lexer": "ipython3",
   "version": "3.10.16"
  }
 },
 "nbformat": 4,
 "nbformat_minor": 5
}
